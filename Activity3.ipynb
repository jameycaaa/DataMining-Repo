{
 "cells": [
  {
   "cell_type": "markdown",
   "id": "a32f3d76-7c3e-4492-ada9-179b68328ce0",
   "metadata": {},
   "source": [
    "<h1>Project: United Kingdom Road Accident Data Analysis</h1>"
   ]
  },
  {
   "cell_type": "markdown",
   "id": "4799c9f5-c71a-4394-af1d-bffbafc23e71",
   "metadata": {},
   "source": [
    "<h3>Inclusive Years:2019-2022</h3>"
   ]
  },
  {
   "cell_type": "markdown",
   "id": "ef8713f6-1ce4-4cd6-bdd4-440ca782c3e0",
   "metadata": {},
   "source": [
    "<h4>Analyst: Jamaica M. Loria</h4>"
   ]
  },
  {
   "cell_type": "markdown",
   "id": "e7b5967c-35a6-4dc5-b888-9a3c9ecf0d66",
   "metadata": {},
   "source": [
    "<h1>Importing Libraries / Data Preparation</h1>"
   ]
  },
  {
   "cell_type": "code",
   "execution_count": 1,
   "id": "e260b543-5ee7-4be9-b513-b2e2e48bc22c",
   "metadata": {},
   "outputs": [],
   "source": [
    "import warnings\n",
    "warnings.filterwarnings('ignore')\n",
    "import pandas as pd\n",
    "import numpy as np\n",
    "from scipy.stats import f_oneway"
   ]
  },
  {
   "cell_type": "code",
   "execution_count": 2,
   "id": "08fd1f22-8fe6-48ea-8ad8-0d2e8829b25c",
   "metadata": {},
   "outputs": [],
   "source": [
    "accident = pd.read_csv('dataset\\\\accident_data.csv')"
   ]
  },
  {
   "cell_type": "code",
   "execution_count": 3,
   "id": "f974d977-15dd-4d10-a546-094262c7704e",
   "metadata": {},
   "outputs": [
    {
     "data": {
      "text/html": [
       "<div>\n",
       "<style scoped>\n",
       "    .dataframe tbody tr th:only-of-type {\n",
       "        vertical-align: middle;\n",
       "    }\n",
       "\n",
       "    .dataframe tbody tr th {\n",
       "        vertical-align: top;\n",
       "    }\n",
       "\n",
       "    .dataframe thead th {\n",
       "        text-align: right;\n",
       "    }\n",
       "</style>\n",
       "<table border=\"1\" class=\"dataframe\">\n",
       "  <thead>\n",
       "    <tr style=\"text-align: right;\">\n",
       "      <th></th>\n",
       "      <th>Index</th>\n",
       "      <th>Accident_Severity</th>\n",
       "      <th>Accident Date</th>\n",
       "      <th>Latitude</th>\n",
       "      <th>Light_Conditions</th>\n",
       "      <th>District Area</th>\n",
       "      <th>Longitude</th>\n",
       "      <th>Number_of_Casualties</th>\n",
       "      <th>Number_of_Vehicles</th>\n",
       "      <th>Road_Surface_Conditions</th>\n",
       "      <th>Road_Type</th>\n",
       "      <th>Urban_or_Rural_Area</th>\n",
       "      <th>Weather_Conditions</th>\n",
       "      <th>Vehicle_Type</th>\n",
       "    </tr>\n",
       "  </thead>\n",
       "  <tbody>\n",
       "    <tr>\n",
       "      <th>0</th>\n",
       "      <td>200701BS64157</td>\n",
       "      <td>Serious</td>\n",
       "      <td>05/06/2019</td>\n",
       "      <td>51.506187</td>\n",
       "      <td>Darkness - lights lit</td>\n",
       "      <td>Kensington and Chelsea</td>\n",
       "      <td>-0.209082</td>\n",
       "      <td>1</td>\n",
       "      <td>2</td>\n",
       "      <td>Dry</td>\n",
       "      <td>Single carriageway</td>\n",
       "      <td>Urban</td>\n",
       "      <td>Fine no high winds</td>\n",
       "      <td>Car</td>\n",
       "    </tr>\n",
       "    <tr>\n",
       "      <th>1</th>\n",
       "      <td>200701BS65737</td>\n",
       "      <td>Serious</td>\n",
       "      <td>02/07/2019</td>\n",
       "      <td>51.495029</td>\n",
       "      <td>Daylight</td>\n",
       "      <td>Kensington and Chelsea</td>\n",
       "      <td>-0.173647</td>\n",
       "      <td>1</td>\n",
       "      <td>2</td>\n",
       "      <td>Wet or damp</td>\n",
       "      <td>Single carriageway</td>\n",
       "      <td>Urban</td>\n",
       "      <td>Raining no high winds</td>\n",
       "      <td>Car</td>\n",
       "    </tr>\n",
       "    <tr>\n",
       "      <th>2</th>\n",
       "      <td>200701BS66127</td>\n",
       "      <td>Serious</td>\n",
       "      <td>26/08/2019</td>\n",
       "      <td>51.517715</td>\n",
       "      <td>Darkness - lighting unknown</td>\n",
       "      <td>Kensington and Chelsea</td>\n",
       "      <td>-0.210215</td>\n",
       "      <td>1</td>\n",
       "      <td>3</td>\n",
       "      <td>Dry</td>\n",
       "      <td>NaN</td>\n",
       "      <td>Urban</td>\n",
       "      <td>NaN</td>\n",
       "      <td>Taxi/Private hire car</td>\n",
       "    </tr>\n",
       "    <tr>\n",
       "      <th>3</th>\n",
       "      <td>200701BS66128</td>\n",
       "      <td>Serious</td>\n",
       "      <td>16/08/2019</td>\n",
       "      <td>51.495478</td>\n",
       "      <td>Daylight</td>\n",
       "      <td>Kensington and Chelsea</td>\n",
       "      <td>-0.202731</td>\n",
       "      <td>1</td>\n",
       "      <td>4</td>\n",
       "      <td>Dry</td>\n",
       "      <td>Single carriageway</td>\n",
       "      <td>Urban</td>\n",
       "      <td>Fine no high winds</td>\n",
       "      <td>Bus or coach (17 or more pass seats)</td>\n",
       "    </tr>\n",
       "    <tr>\n",
       "      <th>4</th>\n",
       "      <td>200701BS66837</td>\n",
       "      <td>Slight</td>\n",
       "      <td>03/09/2019</td>\n",
       "      <td>51.488576</td>\n",
       "      <td>Darkness - lights lit</td>\n",
       "      <td>Kensington and Chelsea</td>\n",
       "      <td>-0.192487</td>\n",
       "      <td>1</td>\n",
       "      <td>2</td>\n",
       "      <td>Dry</td>\n",
       "      <td>NaN</td>\n",
       "      <td>Urban</td>\n",
       "      <td>NaN</td>\n",
       "      <td>Other vehicle</td>\n",
       "    </tr>\n",
       "    <tr>\n",
       "      <th>...</th>\n",
       "      <td>...</td>\n",
       "      <td>...</td>\n",
       "      <td>...</td>\n",
       "      <td>...</td>\n",
       "      <td>...</td>\n",
       "      <td>...</td>\n",
       "      <td>...</td>\n",
       "      <td>...</td>\n",
       "      <td>...</td>\n",
       "      <td>...</td>\n",
       "      <td>...</td>\n",
       "      <td>...</td>\n",
       "      <td>...</td>\n",
       "      <td>...</td>\n",
       "    </tr>\n",
       "    <tr>\n",
       "      <th>660674</th>\n",
       "      <td>201091NM01760</td>\n",
       "      <td>Slight</td>\n",
       "      <td>18/02/2022</td>\n",
       "      <td>57.374005</td>\n",
       "      <td>Daylight</td>\n",
       "      <td>Highland</td>\n",
       "      <td>-3.467828</td>\n",
       "      <td>2</td>\n",
       "      <td>1</td>\n",
       "      <td>Dry</td>\n",
       "      <td>Single carriageway</td>\n",
       "      <td>Rural</td>\n",
       "      <td>Fine no high winds</td>\n",
       "      <td>Car</td>\n",
       "    </tr>\n",
       "    <tr>\n",
       "      <th>660675</th>\n",
       "      <td>201091NM01881</td>\n",
       "      <td>Slight</td>\n",
       "      <td>21/02/2022</td>\n",
       "      <td>57.232273</td>\n",
       "      <td>Darkness - no lighting</td>\n",
       "      <td>Highland</td>\n",
       "      <td>-3.809281</td>\n",
       "      <td>1</td>\n",
       "      <td>1</td>\n",
       "      <td>Frost or ice</td>\n",
       "      <td>Single carriageway</td>\n",
       "      <td>Rural</td>\n",
       "      <td>Fine no high winds</td>\n",
       "      <td>Car</td>\n",
       "    </tr>\n",
       "    <tr>\n",
       "      <th>660676</th>\n",
       "      <td>201091NM01935</td>\n",
       "      <td>Slight</td>\n",
       "      <td>23/02/2022</td>\n",
       "      <td>57.585044</td>\n",
       "      <td>Daylight</td>\n",
       "      <td>Highland</td>\n",
       "      <td>-3.862727</td>\n",
       "      <td>1</td>\n",
       "      <td>3</td>\n",
       "      <td>Frost or ice</td>\n",
       "      <td>Single carriageway</td>\n",
       "      <td>Rural</td>\n",
       "      <td>Fine no high winds</td>\n",
       "      <td>Car</td>\n",
       "    </tr>\n",
       "    <tr>\n",
       "      <th>660677</th>\n",
       "      <td>201091NM01964</td>\n",
       "      <td>Serious</td>\n",
       "      <td>23/02/2022</td>\n",
       "      <td>57.214898</td>\n",
       "      <td>Darkness - no lighting</td>\n",
       "      <td>Highland</td>\n",
       "      <td>-3.823997</td>\n",
       "      <td>1</td>\n",
       "      <td>2</td>\n",
       "      <td>Wet or damp</td>\n",
       "      <td>Single carriageway</td>\n",
       "      <td>Rural</td>\n",
       "      <td>Fine no high winds</td>\n",
       "      <td>Motorcycle over 500cc</td>\n",
       "    </tr>\n",
       "    <tr>\n",
       "      <th>660678</th>\n",
       "      <td>201091NM02142</td>\n",
       "      <td>Serious</td>\n",
       "      <td>28/02/2022</td>\n",
       "      <td>57.575210</td>\n",
       "      <td>Daylight</td>\n",
       "      <td>Highland</td>\n",
       "      <td>-3.895673</td>\n",
       "      <td>1</td>\n",
       "      <td>1</td>\n",
       "      <td>Wet or damp</td>\n",
       "      <td>Dual carriageway</td>\n",
       "      <td>Rural</td>\n",
       "      <td>Snowing no high winds</td>\n",
       "      <td>Car</td>\n",
       "    </tr>\n",
       "  </tbody>\n",
       "</table>\n",
       "<p>660679 rows × 14 columns</p>\n",
       "</div>"
      ],
      "text/plain": [
       "                Index Accident_Severity Accident Date   Latitude  \\\n",
       "0       200701BS64157           Serious    05/06/2019  51.506187   \n",
       "1       200701BS65737           Serious    02/07/2019  51.495029   \n",
       "2       200701BS66127           Serious    26/08/2019  51.517715   \n",
       "3       200701BS66128           Serious    16/08/2019  51.495478   \n",
       "4       200701BS66837            Slight    03/09/2019  51.488576   \n",
       "...               ...               ...           ...        ...   \n",
       "660674  201091NM01760            Slight    18/02/2022  57.374005   \n",
       "660675  201091NM01881            Slight    21/02/2022  57.232273   \n",
       "660676  201091NM01935            Slight    23/02/2022  57.585044   \n",
       "660677  201091NM01964           Serious    23/02/2022  57.214898   \n",
       "660678  201091NM02142           Serious    28/02/2022  57.575210   \n",
       "\n",
       "                   Light_Conditions           District Area  Longitude  \\\n",
       "0             Darkness - lights lit  Kensington and Chelsea  -0.209082   \n",
       "1                          Daylight  Kensington and Chelsea  -0.173647   \n",
       "2       Darkness - lighting unknown  Kensington and Chelsea  -0.210215   \n",
       "3                          Daylight  Kensington and Chelsea  -0.202731   \n",
       "4             Darkness - lights lit  Kensington and Chelsea  -0.192487   \n",
       "...                             ...                     ...        ...   \n",
       "660674                     Daylight                Highland  -3.467828   \n",
       "660675       Darkness - no lighting                Highland  -3.809281   \n",
       "660676                     Daylight                Highland  -3.862727   \n",
       "660677       Darkness - no lighting                Highland  -3.823997   \n",
       "660678                     Daylight                Highland  -3.895673   \n",
       "\n",
       "        Number_of_Casualties  Number_of_Vehicles Road_Surface_Conditions  \\\n",
       "0                          1                   2                     Dry   \n",
       "1                          1                   2             Wet or damp   \n",
       "2                          1                   3                     Dry   \n",
       "3                          1                   4                     Dry   \n",
       "4                          1                   2                     Dry   \n",
       "...                      ...                 ...                     ...   \n",
       "660674                     2                   1                     Dry   \n",
       "660675                     1                   1            Frost or ice   \n",
       "660676                     1                   3            Frost or ice   \n",
       "660677                     1                   2             Wet or damp   \n",
       "660678                     1                   1             Wet or damp   \n",
       "\n",
       "                 Road_Type Urban_or_Rural_Area     Weather_Conditions  \\\n",
       "0       Single carriageway               Urban     Fine no high winds   \n",
       "1       Single carriageway               Urban  Raining no high winds   \n",
       "2                      NaN               Urban                    NaN   \n",
       "3       Single carriageway               Urban     Fine no high winds   \n",
       "4                      NaN               Urban                    NaN   \n",
       "...                    ...                 ...                    ...   \n",
       "660674  Single carriageway               Rural     Fine no high winds   \n",
       "660675  Single carriageway               Rural     Fine no high winds   \n",
       "660676  Single carriageway               Rural     Fine no high winds   \n",
       "660677  Single carriageway               Rural     Fine no high winds   \n",
       "660678    Dual carriageway               Rural  Snowing no high winds   \n",
       "\n",
       "                                Vehicle_Type  \n",
       "0                                        Car  \n",
       "1                                        Car  \n",
       "2                      Taxi/Private hire car  \n",
       "3       Bus or coach (17 or more pass seats)  \n",
       "4                              Other vehicle  \n",
       "...                                      ...  \n",
       "660674                                   Car  \n",
       "660675                                   Car  \n",
       "660676                                   Car  \n",
       "660677                 Motorcycle over 500cc  \n",
       "660678                                   Car  \n",
       "\n",
       "[660679 rows x 14 columns]"
      ]
     },
     "execution_count": 3,
     "metadata": {},
     "output_type": "execute_result"
    }
   ],
   "source": [
    "accident"
   ]
  },
  {
   "cell_type": "markdown",
   "id": "5584a5d1-94ac-4793-ad95-6a352ba4b360",
   "metadata": {},
   "source": [
    "<h1>Data Cleansing / Filling Up Missing Values in the Data Frame</h1>"
   ]
  },
  {
   "cell_type": "code",
   "execution_count": 4,
   "id": "0b8366af-6f83-41cc-bd5f-1b35a3d4ade8",
   "metadata": {},
   "outputs": [
    {
     "data": {
      "text/plain": [
       "Index                          0\n",
       "Accident_Severity              0\n",
       "Accident Date                  0\n",
       "Latitude                      25\n",
       "Light_Conditions               0\n",
       "District Area                  0\n",
       "Longitude                     26\n",
       "Number_of_Casualties           0\n",
       "Number_of_Vehicles             0\n",
       "Road_Surface_Conditions      726\n",
       "Road_Type                   4520\n",
       "Urban_or_Rural_Area           15\n",
       "Weather_Conditions         14128\n",
       "Vehicle_Type                   0\n",
       "dtype: int64"
      ]
     },
     "execution_count": 4,
     "metadata": {},
     "output_type": "execute_result"
    }
   ],
   "source": [
    "accident.isnull().sum()"
   ]
  },
  {
   "cell_type": "code",
   "execution_count": 5,
   "id": "07600cb7-eaf2-41b6-bc3a-90cde7e5d209",
   "metadata": {},
   "outputs": [],
   "source": [
    "accident['Latitude'] = accident['Latitude'].fillna(accident['Latitude'].mode()[0])\n",
    "accident['Longitude'] = accident['Longitude'].fillna(accident['Longitude'].mode()[0])\n",
    "accident['Road_Surface_Conditions'] = accident['Road_Surface_Conditions'].fillna('unaccounted')\n",
    "accident['Road_Type'] = accident['Road_Type'].fillna('unaccounted')\n",
    "accident['Urban_or_Rural_Area'] = accident['Urban_or_Rural_Area'].fillna(accident['Urban_or_Rural_Area'].mode()[0])\n",
    "accident['Weather_Conditions'] = accident['Weather_Conditions'].fillna('unaccounted')\n"
   ]
  },
  {
   "cell_type": "code",
   "execution_count": 6,
   "id": "17a70115-8bd5-4d29-bcab-a13a06fbd5cc",
   "metadata": {},
   "outputs": [
    {
     "data": {
      "text/plain": [
       "Index                      0\n",
       "Accident_Severity          0\n",
       "Accident Date              0\n",
       "Latitude                   0\n",
       "Light_Conditions           0\n",
       "District Area              0\n",
       "Longitude                  0\n",
       "Number_of_Casualties       0\n",
       "Number_of_Vehicles         0\n",
       "Road_Surface_Conditions    0\n",
       "Road_Type                  0\n",
       "Urban_or_Rural_Area        0\n",
       "Weather_Conditions         0\n",
       "Vehicle_Type               0\n",
       "dtype: int64"
      ]
     },
     "execution_count": 6,
     "metadata": {},
     "output_type": "execute_result"
    }
   ],
   "source": [
    "accident.isnull().sum()"
   ]
  },
  {
   "cell_type": "code",
   "execution_count": 7,
   "id": "e8271ffa-7af5-4039-b7ef-3a57d12aa51f",
   "metadata": {},
   "outputs": [
    {
     "data": {
      "text/plain": [
       "Index                              object\n",
       "Accident_Severity                  object\n",
       "Accident Date              datetime64[ns]\n",
       "Latitude                          float64\n",
       "Light_Conditions                   object\n",
       "District Area                      object\n",
       "Longitude                         float64\n",
       "Number_of_Casualties                int64\n",
       "Number_of_Vehicles                  int64\n",
       "Road_Surface_Conditions            object\n",
       "Road_Type                          object\n",
       "Urban_or_Rural_Area                object\n",
       "Weather_Conditions                 object\n",
       "Vehicle_Type                       object\n",
       "dtype: object"
      ]
     },
     "execution_count": 7,
     "metadata": {},
     "output_type": "execute_result"
    }
   ],
   "source": [
    "accident['Accident Date'] = pd.to_datetime(accident['Accident Date'], dayfirst = True, errors = 'coerce')\n",
    "accident.dtypes"
   ]
  },
  {
   "cell_type": "markdown",
   "id": "1ea034c2-f753-4c80-aa95-0128206a2acf",
   "metadata": {},
   "source": [
    "<h1>Categorical Data Fields</h1>"
   ]
  },
  {
   "cell_type": "code",
   "execution_count": 8,
   "id": "b5eaebe9-6e5a-4f2a-9fbb-16c12b388379",
   "metadata": {},
   "outputs": [],
   "source": [
    "accident['Index'] = accident['Index'].astype('category')\n",
    "accident['Accident_Severity'] = accident['Accident_Severity'].astype('category')\n",
    "accident['Latitude'] = accident['Latitude'].astype('category')\n",
    "accident['Light_Conditions'] = accident['Light_Conditions'].astype('category')\n",
    "accident['District Area'] = accident['District Area'].astype('category')\n",
    "accident['Longitude'] = accident['Longitude'].astype('category')\n",
    "accident['Road_Surface_Conditions'] = accident['Road_Surface_Conditions'].astype('category')\n",
    "accident['Road_Type'] = accident['Road_Type'].astype('category')\n",
    "accident['Urban_or_Rural_Area'] = accident['Urban_or_Rural_Area'].astype('category')\n",
    "accident['Weather_Conditions'] = accident['Weather_Conditions'].astype('category')\n",
    "accident['Vehicle_Type'] = accident['Vehicle_Type'].astype('category')"
   ]
  },
  {
   "cell_type": "code",
   "execution_count": 9,
   "id": "09b2e61b-641b-4584-b82f-70ea2d20dc29",
   "metadata": {},
   "outputs": [
    {
     "data": {
      "text/plain": [
       "Index                            category\n",
       "Accident_Severity                category\n",
       "Accident Date              datetime64[ns]\n",
       "Latitude                         category\n",
       "Light_Conditions                 category\n",
       "District Area                    category\n",
       "Longitude                        category\n",
       "Number_of_Casualties                int64\n",
       "Number_of_Vehicles                  int64\n",
       "Road_Surface_Conditions          category\n",
       "Road_Type                        category\n",
       "Urban_or_Rural_Area              category\n",
       "Weather_Conditions               category\n",
       "Vehicle_Type                     category\n",
       "dtype: object"
      ]
     },
     "execution_count": 9,
     "metadata": {},
     "output_type": "execute_result"
    }
   ],
   "source": [
    "accident.dtypes"
   ]
  },
  {
   "cell_type": "code",
   "execution_count": 10,
   "id": "1ce402b8-f02e-491b-9d32-8199296c1a14",
   "metadata": {},
   "outputs": [
    {
     "data": {
      "text/plain": [
       "Index                      0\n",
       "Accident_Severity          0\n",
       "Accident Date              0\n",
       "Latitude                   0\n",
       "Light_Conditions           0\n",
       "District Area              0\n",
       "Longitude                  0\n",
       "Number_of_Casualties       0\n",
       "Number_of_Vehicles         0\n",
       "Road_Surface_Conditions    0\n",
       "Road_Type                  0\n",
       "Urban_or_Rural_Area        0\n",
       "Weather_Conditions         0\n",
       "Vehicle_Type               0\n",
       "dtype: int64"
      ]
     },
     "execution_count": 10,
     "metadata": {},
     "output_type": "execute_result"
    }
   ],
   "source": [
    "accident.isnull().sum()"
   ]
  },
  {
   "cell_type": "markdown",
   "id": "e2c96cbd-6d16-409c-9e74-8b0b231b750b",
   "metadata": {},
   "source": [
    "<h1>Extracting Information using pandas Date Time</h1>"
   ]
  },
  {
   "cell_type": "code",
   "execution_count": 11,
   "id": "cb2a8396-2fe4-48aa-bad7-9c8c2b000cfb",
   "metadata": {},
   "outputs": [],
   "source": [
    "accident['Year'] = accident['Accident Date'].dt.year\n",
    "accident['Month'] = accident['Accident Date'].dt.month\n",
    "accident['Day'] = accident['Accident Date'].dt.day\n",
    "accident['DayOfWeek'] = accident['Accident Date'].dt.dayofweek\n",
    "accident['Daylight'] = accident['Light_Conditions'].str.contains('Daylight')"
   ]
  },
  {
   "cell_type": "code",
   "execution_count": 12,
   "id": "cacffe2f-9c7d-49c6-a427-2fd0e6dc4c2f",
   "metadata": {},
   "outputs": [
    {
     "data": {
      "text/plain": [
       "Index                      0\n",
       "Accident_Severity          0\n",
       "Accident Date              0\n",
       "Latitude                   0\n",
       "Light_Conditions           0\n",
       "District Area              0\n",
       "Longitude                  0\n",
       "Number_of_Casualties       0\n",
       "Number_of_Vehicles         0\n",
       "Road_Surface_Conditions    0\n",
       "Road_Type                  0\n",
       "Urban_or_Rural_Area        0\n",
       "Weather_Conditions         0\n",
       "Vehicle_Type               0\n",
       "Year                       0\n",
       "Month                      0\n",
       "Day                        0\n",
       "DayOfWeek                  0\n",
       "Daylight                   0\n",
       "dtype: int64"
      ]
     },
     "execution_count": 12,
     "metadata": {},
     "output_type": "execute_result"
    }
   ],
   "source": [
    "accident.isnull().sum()"
   ]
  },
  {
   "cell_type": "markdown",
   "id": "3029e754-88a4-45af-aacd-3370acf64bf4",
   "metadata": {},
   "source": [
    "<h1>INSIGHT 1</h1>"
   ]
  },
  {
   "cell_type": "markdown",
   "id": "600873bf-84a4-4349-9964-c7cf39c84533",
   "metadata": {},
   "source": [
    "<h1>1.What Area has the Highest number of Accidents?</h1>"
   ]
  },
  {
   "cell_type": "code",
   "execution_count": 56,
   "id": "0676099f-6fc7-4824-93c0-8d11b8353a5a",
   "metadata": {},
   "outputs": [
    {
     "data": {
      "text/plain": [
       "Urban_or_Rural_Area\n",
       "Urban          421678\n",
       "Rural          238990\n",
       "Unallocated        11\n",
       "Name: count, dtype: int64"
      ]
     },
     "execution_count": 56,
     "metadata": {},
     "output_type": "execute_result"
    }
   ],
   "source": [
    "area_severity = accident['Urban_or_Rural_Area'].value_counts()\n",
    "area_severity"
   ]
  },
  {
   "cell_type": "markdown",
   "id": "7b072980-1de1-4ccc-b69b-76839e46f1bc",
   "metadata": {},
   "source": [
    "<h3>Insight 1.1: Based on the result, 63.83% of accidents happened in Urban Area</h3>"
   ]
  },
  {
   "cell_type": "markdown",
   "id": "a0e63a56-d4d1-4887-be2f-719812bcd7b1",
   "metadata": {},
   "source": [
    "<h1>INSIGHT 2</h1>"
   ]
  },
  {
   "cell_type": "markdown",
   "id": "a99d394a-0799-4b26-9a25-cbdf93bf7824",
   "metadata": {},
   "source": [
    "<h1>2.What Severity Level has the Highest Amount of Accidents?</h1>"
   ]
  },
  {
   "cell_type": "code",
   "execution_count": 57,
   "id": "28f42139-f831-4edf-9932-300412085861",
   "metadata": {},
   "outputs": [
    {
     "data": {
      "text/plain": [
       "Accident_Severity\n",
       "Slight     563801\n",
       "Serious     88217\n",
       "Fatal        8661\n",
       "Name: count, dtype: int64"
      ]
     },
     "execution_count": 57,
     "metadata": {},
     "output_type": "execute_result"
    }
   ],
   "source": [
    "severity_counts = accident['Accident_Severity'].value_counts()\n",
    "severity_counts"
   ]
  },
  {
   "cell_type": "markdown",
   "id": "e43b6960-8552-4aea-8871-341f50e0e86f",
   "metadata": {},
   "source": [
    "<h3>Insight 2.1: Based on the result, 85.34% of accidents has Slight Severity</h3>"
   ]
  },
  {
   "cell_type": "markdown",
   "id": "96e17ebb-e3ac-4412-8b76-c84f2c073f47",
   "metadata": {},
   "source": [
    "<h1>INSIGHT 3</h1>"
   ]
  },
  {
   "cell_type": "markdown",
   "id": "8ed52bb2-8587-4adc-bfce-e85bb0574737",
   "metadata": {},
   "source": [
    "<h1>3. How many incidents happened in an Urban or Rural Area in the Year 2019 </h1>"
   ]
  },
  {
   "cell_type": "code",
   "execution_count": 59,
   "id": "583cc1dd-a157-4ee8-a8c4-557a7c7d4570",
   "metadata": {},
   "outputs": [
    {
     "data": {
      "text/plain": [
       "182115"
      ]
     },
     "execution_count": 59,
     "metadata": {},
     "output_type": "execute_result"
    }
   ],
   "source": [
    "year_2019 = accident[accident['Year']== 2019]\n",
    "year_2019['Urban_or_Rural_Area'].value_counts().sum()"
   ]
  },
  {
   "cell_type": "markdown",
   "id": "f9e65c7a-f00e-44b8-94b5-29ab1e7f0c7e",
   "metadata": {},
   "source": [
    "<h3>Insight 3.1: There is a total number of 182, 115 incidents that happend in a Urban or Rural Area in the year 2019</h3>"
   ]
  },
  {
   "cell_type": "markdown",
   "id": "5fe77c99-8058-44ec-a853-20ddf1b2e459",
   "metadata": {},
   "source": [
    "<h1>INSIGHT 4</h1>"
   ]
  },
  {
   "cell_type": "markdown",
   "id": "aeae6539-de25-4dc0-bfcd-bcab8368ef33",
   "metadata": {},
   "source": [
    "<h1>4. What vehicle type causes the most and least accident?</h1>"
   ]
  },
  {
   "cell_type": "code",
   "execution_count": 16,
   "id": "d779838e-24d7-4928-a41e-d9ea396bcee3",
   "metadata": {},
   "outputs": [
    {
     "data": {
      "text/plain": [
       "Vehicle_Type\n",
       "Car                                      676692\n",
       "Van / Goods 3.5 tonnes mgw or under       46271\n",
       "Bus or coach (17 or more pass seats)      34915\n",
       "Motorcycle over 500cc                     34879\n",
       "Goods 7.5 tonnes mgw and over             23397\n",
       "Motorcycle 125cc and under                20348\n",
       "Taxi/Private hire car                     18195\n",
       "Motorcycle over 125cc and up to 500cc     10286\n",
       "Motorcycle 50cc and under                 10167\n",
       "Goods over 3.5t. and under 7.5t            8308\n",
       "Other vehicle                              7554\n",
       "Minibus (8 - 16 passenger seats)           2659\n",
       "Agricultural vehicle                       2613\n",
       "Pedal cycle                                 270\n",
       "Data missing or out of range                  9\n",
       "Ridden horse                                  5\n",
       "Name: Number_of_Casualties, dtype: int64"
      ]
     },
     "execution_count": 16,
     "metadata": {},
     "output_type": "execute_result"
    }
   ],
   "source": [
    "accident.groupby('Vehicle_Type')['Number_of_Casualties'].sum().sort_values(ascending=False)"
   ]
  },
  {
   "cell_type": "markdown",
   "id": "c8b70c7c-7eff-48ed-a64c-ed945d1dba92",
   "metadata": {},
   "source": [
    "<h3>Insight 4.1: 102.42% of cars causes the most casualties while 0.0008% of ridden horse causes the least casualties</h3>"
   ]
  },
  {
   "cell_type": "markdown",
   "id": "7cffc0af-8a8f-4fff-b841-2b8074110e8a",
   "metadata": {},
   "source": [
    "<h1>INSIGHT 5</h1>"
   ]
  },
  {
   "cell_type": "markdown",
   "id": "1d2d8ae5-805f-4963-87e7-0f832cedfda1",
   "metadata": {},
   "source": [
    "<h1>5. How many Car accidents happened in a Fine no high winds weather conditions</h1>"
   ]
  },
  {
   "cell_type": "code",
   "execution_count": 17,
   "id": "40393571-89c9-4205-a63b-db8813449456",
   "metadata": {},
   "outputs": [
    {
     "name": "stdout",
     "output_type": "stream",
     "text": [
      "<class 'pandas.core.frame.DataFrame'>\n",
      "Index: 392668 entries, 0 to 660676\n",
      "Data columns (total 19 columns):\n",
      " #   Column                   Non-Null Count   Dtype         \n",
      "---  ------                   --------------   -----         \n",
      " 0   Index                    392668 non-null  category      \n",
      " 1   Accident_Severity        392668 non-null  category      \n",
      " 2   Accident Date            392668 non-null  datetime64[ns]\n",
      " 3   Latitude                 392668 non-null  category      \n",
      " 4   Light_Conditions         392668 non-null  category      \n",
      " 5   District Area            392668 non-null  category      \n",
      " 6   Longitude                392668 non-null  category      \n",
      " 7   Number_of_Casualties     392668 non-null  int64         \n",
      " 8   Number_of_Vehicles       392668 non-null  int64         \n",
      " 9   Road_Surface_Conditions  392668 non-null  category      \n",
      " 10  Road_Type                392668 non-null  category      \n",
      " 11  Urban_or_Rural_Area      392668 non-null  category      \n",
      " 12  Weather_Conditions       392668 non-null  category      \n",
      " 13  Vehicle_Type             392668 non-null  category      \n",
      " 14  Year                     392668 non-null  int32         \n",
      " 15  Month                    392668 non-null  int32         \n",
      " 16  Day                      392668 non-null  int32         \n",
      " 17  DayOfWeek                392668 non-null  int32         \n",
      " 18  Daylight                 392668 non-null  bool          \n",
      "dtypes: bool(1), category(11), datetime64[ns](1), int32(4), int64(2)\n",
      "memory usage: 85.8 MB\n"
     ]
    }
   ],
   "source": [
    "accident[(accident['Vehicle_Type'] == 'Car') & (accident['Weather_Conditions'] == 'Fine no high winds')].info()"
   ]
  },
  {
   "cell_type": "markdown",
   "id": "905fbd04-ebac-4280-b1cd-1ab630ef7888",
   "metadata": {},
   "source": [
    "<h3>Insight 5.1: There are approximately 59.43% car accident in a fine no high winds weather conditions</h3>"
   ]
  },
  {
   "cell_type": "markdown",
   "id": "b75e91a2-f333-445c-affc-9eea5047927e",
   "metadata": {},
   "source": [
    "<h1>INSIGHT 6</h1>"
   ]
  },
  {
   "cell_type": "markdown",
   "id": "0a7f8cc9-df09-4f10-9dc8-cddf854bca12",
   "metadata": {},
   "source": [
    "<h1>6. What year has the most casualties by accidents?</h1>"
   ]
  },
  {
   "cell_type": "code",
   "execution_count": 18,
   "id": "8f6d7a36-7a83-4bf0-9653-6d37e1c35b4d",
   "metadata": {},
   "outputs": [
    {
     "data": {
      "text/plain": [
       "Year\n",
       "2019    247780\n",
       "2020    230905\n",
       "2021    222146\n",
       "2022    195737\n",
       "Name: Number_of_Casualties, dtype: int64"
      ]
     },
     "execution_count": 18,
     "metadata": {},
     "output_type": "execute_result"
    }
   ],
   "source": [
    "accident.groupby('Year')['Number_of_Casualties'].sum().sort_values(ascending=False)"
   ]
  },
  {
   "cell_type": "markdown",
   "id": "4ce96faf-a066-457a-ba94-d5d4d3b1f2d9",
   "metadata": {},
   "source": [
    "<h3>Insight 6.1: Year 2019 has the most casualties with a total number of 247,780 accident</h3>"
   ]
  },
  {
   "cell_type": "markdown",
   "id": "7d888a53-8c01-4f7c-abf1-a28aba0911af",
   "metadata": {},
   "source": [
    "<h1>INSIGHT 7</h1>"
   ]
  },
  {
   "cell_type": "markdown",
   "id": "a439aeef-9f3f-444e-8cd1-a77432093a2a",
   "metadata": {},
   "source": [
    "<h1>7. What Month has the most casualties by accidents?</h1>"
   ]
  },
  {
   "cell_type": "code",
   "execution_count": 19,
   "id": "580c7449-f7c7-4bed-a309-402169b01492",
   "metadata": {},
   "outputs": [
    {
     "data": {
      "text/plain": [
       "Month\n",
       "11    81453\n",
       "10    80302\n",
       "7     78490\n",
       "5     76796\n",
       "6     76296\n",
       "9     76053\n",
       "8     75280\n",
       "3     73076\n",
       "1     71038\n",
       "12    70651\n",
       "4     70620\n",
       "2     66513\n",
       "Name: Number_of_Casualties, dtype: int64"
      ]
     },
     "execution_count": 19,
     "metadata": {},
     "output_type": "execute_result"
    }
   ],
   "source": [
    "accident.groupby('Month')['Number_of_Casualties'].sum().sort_values(ascending=False)"
   ]
  },
  {
   "cell_type": "markdown",
   "id": "70c57233-6749-4d20-bc9b-5103971d84a9",
   "metadata": {},
   "source": [
    "<h3>Insight 7.1: The month of November has the most casualties with a total number of 81,453 accident</h3>"
   ]
  },
  {
   "cell_type": "markdown",
   "id": "09bcc80b-0725-43b0-8c9d-5aae9f83b11e",
   "metadata": {},
   "source": [
    "<h1>INSIGHT 8</h1>"
   ]
  },
  {
   "cell_type": "markdown",
   "id": "3b7a4bae-e334-426f-a162-3e0eec6348b6",
   "metadata": {},
   "source": [
    "<h1>8. Is their any correlation between Number of Vehicles and the Number of Casualties?</h1>"
   ]
  },
  {
   "cell_type": "code",
   "execution_count": 20,
   "id": "ec00035a-df85-4d39-8fc5-e5617a7ca48e",
   "metadata": {},
   "outputs": [
    {
     "data": {
      "text/plain": [
       "0.22888886126927557"
      ]
     },
     "execution_count": 20,
     "metadata": {},
     "output_type": "execute_result"
    }
   ],
   "source": [
    "insight_one = accident['Number_of_Vehicles'].corr(accident['Number_of_Casualties'])\n",
    "insight_one"
   ]
  },
  {
   "cell_type": "markdown",
   "id": "136db0bf-0a59-44f6-a260-ab5116198be8",
   "metadata": {},
   "source": [
    "<h3>Insight 8.1: No, there is no correlation between the total number of vehicles and number of casualties</h3>"
   ]
  },
  {
   "cell_type": "markdown",
   "id": "ac3acffc-5a2c-41d1-b008-7fcb95ac8d0b",
   "metadata": {},
   "source": [
    "<h1>INSIGHT 9</h1>"
   ]
  },
  {
   "cell_type": "markdown",
   "id": "704b5a86-f864-4045-bdd1-159b351fc7b9",
   "metadata": {},
   "source": [
    "<h1>9. What District causes the most accidents?</h1>"
   ]
  },
  {
   "cell_type": "code",
   "execution_count": 21,
   "id": "101d0979-99ec-49fb-ac20-6287eb310b5c",
   "metadata": {},
   "outputs": [
    {
     "data": {
      "text/plain": [
       "District Area\n",
       "Birmingham                   18674\n",
       "Leeds                        12438\n",
       "Manchester                    9437\n",
       "Bradford                      9268\n",
       "Liverpool                     8669\n",
       "                             ...  \n",
       "London Airport (Heathrow)      217\n",
       "Clackmannshire                 204\n",
       "Shetland Islands               202\n",
       "Orkney Islands                 154\n",
       "Clackmannanshire               115\n",
       "Name: Number_of_Casualties, Length: 422, dtype: int64"
      ]
     },
     "execution_count": 21,
     "metadata": {},
     "output_type": "execute_result"
    }
   ],
   "source": [
    "accident.groupby('District Area')['Number_of_Casualties'].sum().sort_values(ascending=False)"
   ]
  },
  {
   "cell_type": "markdown",
   "id": "28ce62bc-1239-444a-a3a9-be6d31446bd5",
   "metadata": {},
   "source": [
    "<h3>Insight 9.1: The District Area of Birminghan has cost the most deaths</h3>"
   ]
  },
  {
   "cell_type": "markdown",
   "id": "5ad417bd-65f7-42f9-bd7d-c9fa644033bc",
   "metadata": {},
   "source": [
    "<h1>INSIGHT 10</h1>"
   ]
  },
  {
   "cell_type": "markdown",
   "id": "89af50ea-9e25-4377-a99d-667fe9afa37e",
   "metadata": {},
   "source": [
    "<h1>10. How many casualties happen in Daylight?</h1>"
   ]
  },
  {
   "cell_type": "code",
   "execution_count": 22,
   "id": "c24767e7-ba42-4571-a77a-da769c3b8044",
   "metadata": {},
   "outputs": [
    {
     "data": {
      "text/plain": [
       "Daylight\n",
       "True     649889\n",
       "False    246679\n",
       "Name: Number_of_Casualties, dtype: int64"
      ]
     },
     "execution_count": 22,
     "metadata": {},
     "output_type": "execute_result"
    }
   ],
   "source": [
    "accident.groupby('Daylight')['Number_of_Casualties'].sum().sort_values(ascending=False)"
   ]
  },
  {
   "cell_type": "markdown",
   "id": "53c6c9c5-e67c-4d1f-be3d-81c384e2296f",
   "metadata": {},
   "source": [
    "<h3>Insight 10.1: Approximately 98.37% of the accidents happened in Daylight Condition </h3>"
   ]
  },
  {
   "cell_type": "markdown",
   "id": "dade502d-b76b-4610-ae15-07b25ab96f3a",
   "metadata": {},
   "source": [
    "<h1>INSIGHT 11</h1>"
   ]
  },
  {
   "cell_type": "markdown",
   "id": "a50b056e-53be-4d71-8f73-93261c434e8e",
   "metadata": {},
   "source": [
    "<h1>11. How many vehicles cause each severity level</h1"
   ]
  },
  {
   "cell_type": "code",
   "execution_count": 23,
   "id": "b5b69d14-c7a6-4a3d-958e-5011c069ad8c",
   "metadata": {},
   "outputs": [
    {
     "data": {
      "text/plain": [
       "Accident_Severity\n",
       "Fatal        8661\n",
       "Serious     88217\n",
       "Slight     563801\n",
       "Name: Number_of_Vehicles, dtype: int64"
      ]
     },
     "execution_count": 23,
     "metadata": {},
     "output_type": "execute_result"
    }
   ],
   "source": [
    "accident.groupby('Accident_Severity')['Number_of_Vehicles'].count()"
   ]
  },
  {
   "cell_type": "markdown",
   "id": "0ef12115-484a-489f-bb7f-8d94339b5da6",
   "metadata": {},
   "source": [
    "<h3>Insight 11.1: There happens to be 1.31% vehicles that has caused fatal severity, 13.35% caused serious severity, and 85.34% caused slight severity</h3>"
   ]
  },
  {
   "cell_type": "markdown",
   "id": "1611d067-f5bf-4900-a719-3dc5cd28482c",
   "metadata": {},
   "source": [
    "<h1>INSIGHT 12</h1>"
   ]
  },
  {
   "cell_type": "markdown",
   "id": "45369667-e7ca-4fc3-8519-8899fe644250",
   "metadata": {},
   "source": [
    "<h1>12. What type of Road causes the most casualties</h1>"
   ]
  },
  {
   "cell_type": "code",
   "execution_count": 24,
   "id": "50294ba6-cc8b-445a-ab48-04470c2311cb",
   "metadata": {},
   "outputs": [
    {
     "data": {
      "text/plain": [
       "Road_Type\n",
       "Dual carriageway       99424\n",
       "One way street         13559\n",
       "Roundabout             43992\n",
       "Single carriageway    492143\n",
       "Slip road               7041\n",
       "unaccounted             4520\n",
       "Name: Number_of_Casualties, dtype: int64"
      ]
     },
     "execution_count": 24,
     "metadata": {},
     "output_type": "execute_result"
    }
   ],
   "source": [
    "accident.groupby('Road_Type')['Number_of_Casualties'].count()"
   ]
  },
  {
   "cell_type": "markdown",
   "id": "ceebc3b0-e354-4708-aeb4-43334f4e2a8d",
   "metadata": {},
   "source": [
    "<h3>Insight 12.1: Single carriageway showed the highest number of accident with 74.49% of casualties </h3>"
   ]
  },
  {
   "cell_type": "markdown",
   "id": "4baf41d1-67ae-4d11-a355-45ee09641607",
   "metadata": {},
   "source": [
    "<h1>INSIGHT 13</h1>"
   ]
  },
  {
   "cell_type": "markdown",
   "id": "600efba1-def5-45dc-b7e3-57578aab460c",
   "metadata": {},
   "source": [
    "<h1>13. Is there any correlation between number of vehicles and number of casualties</h1>"
   ]
  },
  {
   "cell_type": "code",
   "execution_count": 25,
   "id": "d57c19f9-d5be-4c30-93e9-ceb546cc1c5e",
   "metadata": {},
   "outputs": [],
   "source": [
    "vehicle_casualties = accident ['Number_of_Casualties'].corr(accident['Number_of_Vehicles'])"
   ]
  },
  {
   "cell_type": "code",
   "execution_count": 26,
   "id": "8690088d-355a-46bd-aa06-e6d8f22c031b",
   "metadata": {},
   "outputs": [
    {
     "data": {
      "text/plain": [
       "0.2288888612692756"
      ]
     },
     "execution_count": 26,
     "metadata": {},
     "output_type": "execute_result"
    }
   ],
   "source": [
    "vehicle_casualties"
   ]
  },
  {
   "cell_type": "markdown",
   "id": "3b0d75da-9e28-4c7a-bf09-27081e787a68",
   "metadata": {},
   "source": [
    "<h3>Insight 13.1: There is no Correlation between number of vehicles and number of casualties</h3>"
   ]
  },
  {
   "cell_type": "markdown",
   "id": "e7b09bcd-66fc-4d7b-b3ab-b175faaa61c7",
   "metadata": {},
   "source": [
    "<h1>Insight 14</h1>"
   ]
  },
  {
   "cell_type": "markdown",
   "id": "9f4007c0-b645-4e51-a570-6f0ce165ce5b",
   "metadata": {},
   "source": [
    "<h1>14. Is there any correlation between Latitude and Number of Casualties</h1>"
   ]
  },
  {
   "cell_type": "code",
   "execution_count": 27,
   "id": "06fbcce5-cdb9-482e-88af-869207549de6",
   "metadata": {},
   "outputs": [],
   "source": [
    "latitude_casualties = accident ['Latitude'].corr(accident['Number_of_Casualties'])"
   ]
  },
  {
   "cell_type": "code",
   "execution_count": 28,
   "id": "353befc8-eac3-4df4-8055-d0eb019dedc1",
   "metadata": {},
   "outputs": [
    {
     "data": {
      "text/plain": [
       "0.03220129464996809"
      ]
     },
     "execution_count": 28,
     "metadata": {},
     "output_type": "execute_result"
    }
   ],
   "source": [
    "latitude_casualties"
   ]
  },
  {
   "cell_type": "markdown",
   "id": "89b98184-c7d6-4f3c-bd4e-269d173143f6",
   "metadata": {},
   "source": [
    "<h3>Insight 14.1: There is no Correlation between Latitude and Number of Casualties</h3>"
   ]
  },
  {
   "cell_type": "markdown",
   "id": "39ba4c28-5e48-4988-8d72-65951397b2b2",
   "metadata": {},
   "source": [
    "<h1>INSIGHT 15</h1>"
   ]
  },
  {
   "cell_type": "markdown",
   "id": "2bff4937-264f-4012-9c51-89a7ff6d1177",
   "metadata": {},
   "source": [
    "<h1>14. Is there any correlation between Longitude and Number of Casualties</h1>"
   ]
  },
  {
   "cell_type": "code",
   "execution_count": 60,
   "id": "ecd3020d-f605-484c-bd47-02e0a0fe9b8e",
   "metadata": {},
   "outputs": [],
   "source": [
    "longitude_casualties = accident ['Longitude'].corr(accident['Number_of_Casualties'])"
   ]
  },
  {
   "cell_type": "code",
   "execution_count": 61,
   "id": "6a82ee35-9ab9-4c63-b523-5f068337d6b2",
   "metadata": {},
   "outputs": [
    {
     "data": {
      "text/plain": [
       "-0.04040873919498823"
      ]
     },
     "execution_count": 61,
     "metadata": {},
     "output_type": "execute_result"
    }
   ],
   "source": [
    "longitude_casualties"
   ]
  },
  {
   "cell_type": "markdown",
   "id": "202ffbfb-ba74-4c23-80d9-c9abf2badf38",
   "metadata": {},
   "source": [
    "<h3>Insight 15.1: There is no Correlation between Longitude and Number of Casualties</h3>"
   ]
  },
  {
   "cell_type": "markdown",
   "id": "6778ecf8-463e-4377-9d4c-41a940fdbedc",
   "metadata": {},
   "source": [
    "<h1>INSIGHT 16</h1>"
   ]
  },
  {
   "cell_type": "markdown",
   "id": "cc3c7e1b-4921-44f1-b31e-03a4f694e493",
   "metadata": {},
   "source": [
    "<h1>16. What Road Surface Conditions does accident occur frequently?</h1>"
   ]
  },
  {
   "cell_type": "code",
   "execution_count": 62,
   "id": "24ae465c-c4dc-4366-b813-2d34310d3985",
   "metadata": {},
   "outputs": [
    {
     "data": {
      "text/plain": [
       "Road_Surface_Conditions\n",
       "Dry                     447821\n",
       "Wet or damp             186708\n",
       "Frost or ice             18517\n",
       "Snow                      5890\n",
       "Flood over 3cm. deep      1017\n",
       "unaccounted                726\n",
       "Name: count, dtype: int64"
      ]
     },
     "execution_count": 62,
     "metadata": {},
     "output_type": "execute_result"
    }
   ],
   "source": [
    "accident['Road_Surface_Conditions'].value_counts()"
   ]
  },
  {
   "cell_type": "markdown",
   "id": "e636c900-529c-4c80-a4bd-c3d194f767cb",
   "metadata": {},
   "source": [
    "<h3>Insight 16.1: Based on the result, 67.78% of accident occur frequently in a Dry Road Surface Conditions</h3>"
   ]
  },
  {
   "cell_type": "markdown",
   "id": "6f338f6f-f250-4e97-b2fe-46dfef4a6176",
   "metadata": {},
   "source": [
    "<h1>INSIGHT 17</h1>"
   ]
  },
  {
   "cell_type": "markdown",
   "id": "7200dbd9-2427-4fe0-96ae-11087f1766a8",
   "metadata": {},
   "source": [
    "<h1>17. Is there any correlation between the Urban or Rural Area and Number of vehicles?</h1>"
   ]
  },
  {
   "cell_type": "code",
   "execution_count": 31,
   "id": "4b786fcb-cb9c-4913-8cb5-d1a3ab8ea74e",
   "metadata": {},
   "outputs": [
    {
     "name": "stdout",
     "output_type": "stream",
     "text": [
      "9.09607802972544e-198\n"
     ]
    }
   ],
   "source": [
    "f_stats, p_value = f_oneway(accident[accident['Urban_or_Rural_Area'] == 'Urban']['Number_of_Vehicles'],\n",
    "                            accident[accident['Urban_or_Rural_Area'] == 'Rural']['Number_of_Vehicles'])\n",
    "print(p_value)"
   ]
  },
  {
   "cell_type": "markdown",
   "id": "2336c306-a71a-4d8e-b752-7f3ec32067b6",
   "metadata": {},
   "source": [
    "<h3>Insight 17.1: Using the one way anova, analysis of variance, there is a correlation between the null value of Urban or Rural Area and Number of vehicles</h3>\n"
   ]
  },
  {
   "cell_type": "markdown",
   "id": "e42f3250-e69e-4954-a217-f2b4d6a0dc32",
   "metadata": {},
   "source": [
    "<h1>INSIGHT 18</h1>"
   ]
  },
  {
   "cell_type": "markdown",
   "id": "567543d2-36a1-4339-9c0b-bc162baeed5b",
   "metadata": {},
   "source": [
    "<h1>18. In what year has the most number of vehicles?</h1>"
   ]
  },
  {
   "cell_type": "code",
   "execution_count": 32,
   "id": "7d1557c3-7ac6-4d49-b18d-979a6005bf74",
   "metadata": {},
   "outputs": [
    {
     "data": {
      "text/plain": [
       "Year\n",
       "2019    334966\n",
       "2020    311604\n",
       "2021    298687\n",
       "2022    264615\n",
       "Name: Number_of_Vehicles, dtype: int64"
      ]
     },
     "execution_count": 32,
     "metadata": {},
     "output_type": "execute_result"
    }
   ],
   "source": [
    "accident.groupby('Year')['Number_of_Vehicles'].sum().sort_values(ascending=False)"
   ]
  },
  {
   "cell_type": "markdown",
   "id": "c29c3901-2047-4d19-848c-3bf1e54eb9b6",
   "metadata": {},
   "source": [
    "<h3>Insight 18.1: Year 2019 has the most number of vehicles with an estimation of 50.70% vehicles</h3>"
   ]
  },
  {
   "cell_type": "markdown",
   "id": "fe1c5fa5-d8a0-4212-9ff4-c8a32f5f4efd",
   "metadata": {},
   "source": [
    "<h1>INSIGHT 19</h1>"
   ]
  },
  {
   "cell_type": "markdown",
   "id": "ea75c34a-d595-4c42-8140-caf02a4887ef",
   "metadata": {},
   "source": [
    "<h1>19. Is their any correlation between Number of Vehicles and in each category of Accident Severity? </h1>"
   ]
  },
  {
   "cell_type": "code",
   "execution_count": 33,
   "id": "b51a7f62-f2d4-4f3e-939a-4c2e27adbd4d",
   "metadata": {},
   "outputs": [
    {
     "name": "stdout",
     "output_type": "stream",
     "text": [
      "Slight: 1.0\n",
      "Serious: 1.0\n",
      "Fatal: 1.0\n"
     ]
    }
   ],
   "source": [
    "slight_corr = accident[(accident['Accident_Severity'] == 'Slight')]['Number_of_Vehicles'].corr (accident[(accident['Accident_Severity'] == 'Slight')]['Number_of_Vehicles'])\n",
    "print (f'Slight: {slight_corr}')\n",
    "\n",
    "serious_corr = accident[(accident['Accident_Severity'] == 'Serious')]['Number_of_Vehicles'].corr (accident[(accident['Accident_Severity'] == 'Serious')]['Number_of_Vehicles'])\n",
    "print (f'Serious: {serious_corr}')\n",
    "\n",
    "fatal_corr = accident[(accident['Accident_Severity'] == 'Fatal')]['Number_of_Vehicles'].corr (accident[(accident['Accident_Severity'] == 'Fatal')]['Number_of_Vehicles'])\n",
    "print (f'Fatal: {fatal_corr}')\n",
    "\n",
    "\n",
    "\n"
   ]
  },
  {
   "cell_type": "markdown",
   "id": "1730ed43-c9f7-46b3-a1e8-96b941a5d961",
   "metadata": {},
   "source": [
    "<h3>19.1: Based on my findings from the dataset, I can infer that there is a correlation with regards to Accident Severity and Number of Vehicles in each category of severity.</h3>"
   ]
  },
  {
   "cell_type": "markdown",
   "id": "bd28df4e-3554-4270-8a00-d3222e8a835a",
   "metadata": {},
   "source": [
    "<h1>INSIGHT 20</h1>"
   ]
  },
  {
   "cell_type": "markdown",
   "id": "aff28ab3-4a60-4a69-9644-01732eb6bc44",
   "metadata": {},
   "source": [
    "<h1>20. What District Area and it's Light Level causes the most casualties?</h1>"
   ]
  },
  {
   "cell_type": "code",
   "execution_count": 44,
   "id": "6b02e6af-3105-41e4-880c-5804007ff660",
   "metadata": {},
   "outputs": [],
   "source": [
    "casualties_area_condition = np.round(accident.groupby(['District Area','Light_Conditions'])['Number_of_Casualties'].mean(),2)"
   ]
  },
  {
   "cell_type": "markdown",
   "id": "3a6273a6-d76f-406e-8b03-d02ecb1e1695",
   "metadata": {},
   "source": [
    "casualties_area_condition.idxmax()"
   ]
  },
  {
   "cell_type": "markdown",
   "id": "d0b6ddaf-6d47-4a2b-abaf-902fc72212e4",
   "metadata": {},
   "source": [
    "<h3>20.1: The Salisbury area and Darkness - lights unlit conditions causes the most casulaties</h3>"
   ]
  },
  {
   "cell_type": "markdown",
   "id": "f50013cc-66bc-46f9-9a39-9691c20ee23f",
   "metadata": {},
   "source": [
    "<h1>INSIGHT 21</h1>"
   ]
  },
  {
   "cell_type": "markdown",
   "id": "716b3957-ce1f-4abf-a9e8-a170d9b333a6",
   "metadata": {},
   "source": [
    "<h1>21. What is the highest average number of deaths in each Light Conditions?</h1>"
   ]
  },
  {
   "cell_type": "code",
   "execution_count": 67,
   "id": "beab4862-9f42-4d6b-abe2-160ea9595a21",
   "metadata": {},
   "outputs": [],
   "source": [
    "area = accident[accident['Weather_Conditions']== 'Fine + high winds']"
   ]
  },
  {
   "cell_type": "code",
   "execution_count": 79,
   "id": "f244b747-3eba-4daf-8a80-c9c4b6aff85c",
   "metadata": {},
   "outputs": [
    {
     "data": {
      "text/plain": [
       "Light_Conditions\n",
       "Darkness - lighting unknown    1.39\n",
       "Darkness - lights lit          1.37\n",
       "Darkness - lights unlit        1.47\n",
       "Darkness - no lighting         1.52\n",
       "Daylight                       1.37\n",
       "Name: Number_of_Casualties, dtype: float64"
      ]
     },
     "execution_count": 79,
     "metadata": {},
     "output_type": "execute_result"
    }
   ],
   "source": [
    "area2 = np.round(area.groupby(['Light_Conditions'])['Number_of_Casualties'].mean(),2)\n",
    "area2"
   ]
  },
  {
   "cell_type": "markdown",
   "id": "d0c3dced-cc49-4a11-8458-6815c83a41fe",
   "metadata": {},
   "source": [
    "<h3>Insight 21.1: The Darkness - no lighting conditions has the highest number of deaths with an average of 1.52</h3>"
   ]
  },
  {
   "cell_type": "markdown",
   "id": "cebe2a90-e26a-4aff-a180-c606f1ff21a4",
   "metadata": {},
   "source": [
    "<h1>INSIGHT 22</h1>"
   ]
  },
  {
   "cell_type": "code",
   "execution_count": null,
   "id": "d959e31f-cbdd-4618-86b0-37123478caa8",
   "metadata": {},
   "outputs": [],
   "source": []
  }
 ],
 "metadata": {
  "kernelspec": {
   "display_name": "Python 3 (ipykernel)",
   "language": "python",
   "name": "python3"
  },
  "language_info": {
   "codemirror_mode": {
    "name": "ipython",
    "version": 3
   },
   "file_extension": ".py",
   "mimetype": "text/x-python",
   "name": "python",
   "nbconvert_exporter": "python",
   "pygments_lexer": "ipython3",
   "version": "3.10.7"
  }
 },
 "nbformat": 4,
 "nbformat_minor": 5
}
